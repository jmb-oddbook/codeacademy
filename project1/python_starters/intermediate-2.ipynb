{
 "cells": [
  {
   "cell_type": "code",
   "execution_count": 11,
   "metadata": {},
   "outputs": [
    {
     "name": "stdout",
     "output_type": "stream",
     "text": [
      "[('a', 5), ('b', 2), ('r', 2), ('c', 1), ('d', 1)]\n"
     ]
    }
   ],
   "source": [
    "# intermediate exercise set 2 #1\n",
    "# Count the number of occurrences of each character and return it as\n",
    "# a list of tuples in order of appearance.\n",
    "\n",
    "\n",
    "def ordered_count(str_in):\n",
    "\n",
    "    tups = []\n",
    "    chars = []\n",
    "    \n",
    "    for char in str_in: # <- does this become immutable as soon as loaded?\n",
    "        if char not in chars:\n",
    "            chars.append(char)\n",
    "\n",
    "    for item in chars:\n",
    "        tups.append(str_in.count(item))\n",
    "\n",
    "    return list(tuple(zip(chars,tups)))\n",
    "\n",
    "\n",
    "# alternative: read in, count, store, and delete character from string?\n",
    "\n",
    "\n",
    "str1 = \"abracadabra\"\n",
    "print(ordered_count(str1))"
   ]
  },
  {
   "cell_type": "code",
   "execution_count": 20,
   "metadata": {},
   "outputs": [
    {
     "name": "stdout",
     "output_type": "stream",
     "text": [
      "Is 1634 a narcissistic number? True\n"
     ]
    }
   ],
   "source": [
    "# intermediate exercise set 2 #2\n",
    "# A Narcissistic Number is a number which is the sum of its own digits, each raised\n",
    "# to the power of the number of digits in a given base. In this problem, we will \n",
    "# restrict ourselves to decimal (base 10).\n",
    "# return true or false depending upon whether the given number is a\n",
    "# narcissistic number in base 10. Error checking for text strings or other invalid\n",
    "# inputs is not required, only valid integers will be passed into the function.\n",
    "\n",
    "# Bsp.: 153 (3 digits) -> 1^3 + 5^3 + 3^3 = 1 + 125 + 27 = 153\n",
    "\n",
    "def narcissist(num): # num is str!\n",
    "\n",
    "    summe = 0\n",
    "\n",
    "    size = len(num)\n",
    "    \n",
    "    for i in num:\n",
    "        summe = summe + pow(int(i),size)\n",
    "    \n",
    "    if summe == int(num):\n",
    "        return True\n",
    "    else:\n",
    "        return False\n",
    "\n",
    "num = input(\"Enter a number: \")\n",
    "print(f'Is {num} a narcissistic number? {narcissist(num)}')\n"
   ]
  },
  {
   "cell_type": "code",
   "execution_count": 24,
   "metadata": {},
   "outputs": [
    {
     "name": "stdout",
     "output_type": "stream",
     "text": [
      "Is 1634 a narcissistic number? True\n"
     ]
    }
   ],
   "source": [
    "# Alternative to exercise 2 where the number to be checked is passed \n",
    "# directly as an integer and not via the input function as a string\n",
    "\n",
    "def narcissist(num):\n",
    "\n",
    "    summe = 0\n",
    "\n",
    "    size = len(str(num))\n",
    "    \n",
    "    for i in str(num):\n",
    "        summe = summe + pow(int(i),size)\n",
    "    \n",
    "    if summe == num:\n",
    "        return True\n",
    "    else:\n",
    "        return False\n",
    "\n",
    "num = 1634\n",
    "print(f'Is {num} a narcissistic number? {narcissist(num)}')"
   ]
  },
  {
   "cell_type": "code",
   "execution_count": null,
   "metadata": {},
   "outputs": [],
   "source": [
    "# intermediate exercise set 2 #3\n",
    "# A pangram is a sentence that contains every single letter of the alphabet at least \n",
    "# once. For example, the sentence “The quick brown fox jumps over the lazy dog” is a \n",
    "# pangram, because it uses the letters A-Z at least once (case is irrelevant).\n",
    "# Given a string, detect whether or not it is a pangram. Return True if it is, False \n",
    "# if not. Ignore numbers and punctuation.\n",
    "\n"
   ]
  },
  {
   "cell_type": "code",
   "execution_count": null,
   "metadata": {},
   "outputs": [],
   "source": [
    "# intermediate exercise set 2 #4\n",
    "# In the city of Cartesia, all roads are laid out in a perfect grid. You arrived ten\n",
    "# minutes earlier to an appointment, so you decided to take the opportunity to go for a\n",
    "# short walk. The city provides its citizens with a Walk Generating App on their phones\n",
    "# — every time you press the button it sends you an array of one-letter strings\n",
    "# representing directions to walk (e.g. [‘n’, ‘s’, ‘w’, ‘e’]). You always walk only a single\n",
    "# block in a direction and you know it takes you one minute to traverse one city block,\n",
    "# so create a function that will return True if the walk the app tells you that you will\n",
    "# take exactly ten minutes (you don’t want to be early or late!) and will, of course, return\n",
    "# to your starting point. Return False otherwise.\n",
    "# Note: you will always receive a valid array containing a random assortment of\n",
    "# direction letters (‘n’, ‘s’, ‘e’, or ‘w’ only). It will never give you an empty array (that’s \n",
    "# not a walk, that’s standing still!)."
   ]
  }
 ],
 "metadata": {
  "interpreter": {
   "hash": "b5cfa023891fceef02537f80a4c6e95b77988fb973cdb16a51cdb785092210be"
  },
  "kernelspec": {
   "display_name": "Python 3.9.7 64-bit ('base': conda)",
   "language": "python",
   "name": "python3"
  },
  "language_info": {
   "codemirror_mode": {
    "name": "ipython",
    "version": 3
   },
   "file_extension": ".py",
   "mimetype": "text/x-python",
   "name": "python",
   "nbconvert_exporter": "python",
   "pygments_lexer": "ipython3",
   "version": "3.9.7"
  },
  "orig_nbformat": 4
 },
 "nbformat": 4,
 "nbformat_minor": 2
}
