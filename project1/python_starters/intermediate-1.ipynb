{
 "cells": [
  {
   "cell_type": "code",
   "execution_count": 1,
   "metadata": {},
   "outputs": [
    {
     "name": "stdout",
     "output_type": "stream",
     "text": [
      "11\n",
      "3\n"
     ]
    }
   ],
   "source": [
    "#testing test\n",
    "#test for token\n",
    "\n",
    "# intermediate exercise set 1 #1\n",
    "# You are given an array (which will have a length of at least 3, but could be very\n",
    "# large) containing integers. The array is either entirely comprised of odd integers or\n",
    "# entirely comprised of even integers except for a single integer N.\n",
    "# Write a method that takes the array as an argument and returns this \"outlier\" N\n",
    "\n",
    "def find_outlier(list_in):\n",
    "    \n",
    "    # case: list with odd numbers, find the even number\n",
    "    if list_in[0] % 2 != 0:\n",
    "        for item in list_in:\n",
    "            if item % 2 == 0:\n",
    "                return item\n",
    "\n",
    "    # case: list with even numbers, find the odd number\n",
    "    else:\n",
    "        for item in list_in:\n",
    "            if item % 2 != 0:\n",
    "                return item\n",
    "\n",
    "\n",
    "evens = [2, 4, 0, 100, 4, 11, 2602, 36]\n",
    "odds = [160, 3, 1719, 19, 11, 13, -21]\n",
    "\n",
    "print(find_outlier(evens))\n",
    "print(find_outlier(odds))"
   ]
  },
  {
   "cell_type": "code",
   "execution_count": 2,
   "metadata": {},
   "outputs": [
    {
     "name": "stdout",
     "output_type": "stream",
     "text": [
      "[1, 4, 5, 12, 1]\n"
     ]
    }
   ],
   "source": [
    "# intermediate exercise set 1 #2\n",
    "# Implement a difference function, which subtracts one list from another and \n",
    "# returns the result. It should remove all values from list a, which are present \n",
    "# in list b.\n",
    "\n",
    "def array_diff(list_a, list_b):\n",
    "\n",
    "    # iterate through array of items to be removed\n",
    "    for rem in list_b:\n",
    "        # remove all instances of rem from list_a\n",
    "        # loops over each item to see if it should be removed, if not it is included\n",
    "        # in a new version of list_a\n",
    "        list_a = [item for item in list_a if item != rem]\n",
    "    \n",
    "    return list_a\n",
    "\n",
    "list_a = [1,3,4,5,12,3,1]\n",
    "list_b = [3,19]\n",
    "\n",
    "print(array_diff(list_a,list_b))"
   ]
  },
  {
   "cell_type": "code",
   "execution_count": 3,
   "metadata": {},
   "outputs": [
    {
     "name": "stdout",
     "output_type": "stream",
     "text": [
      "Bart, Lisa & Marge\n",
      "Bart, Lisa & Marge\n"
     ]
    }
   ],
   "source": [
    "# intermediate exercise set 1 #3\n",
    "# Given: an array containing hashes of names\n",
    "# Return: a string formatted as a list of names separated by commas except for the last\n",
    "# two names, which should be separated by an ampersand.\n",
    "\n",
    "def namelist_1(names):\n",
    "    \n",
    "    # Fugly solution. Append names and punctuation in list and return join.\n",
    "    new_names = []\n",
    "    names_copy = names.copy() \n",
    "    # n.b. using del will delete also outside of the function namelist_1\n",
    "    \n",
    "    while len(names_copy) != 0:\n",
    "        if len(names_copy) == 2:\n",
    "            new_names.append(names_copy[0]['name'])\n",
    "            new_names.append(' & ')\n",
    "            new_names.append(names_copy[1]['name'])\n",
    "            break\n",
    "        elif len(names_copy) == 1:\n",
    "            new_names.append(names_copy[0]['name'])\n",
    "            break\n",
    "        else:\n",
    "            new_names.append(names_copy[0]['name'])\n",
    "            new_names.append(', ')\n",
    "            del names_copy[0]\n",
    "            \n",
    "    return ''.join(new_names)\n",
    "\n",
    "def namelist_2(names):\n",
    "    # Prettier solution    \n",
    "    # Joins names in list from index [0] to second-to-last (slice) with a comma seperator\n",
    "    # Format combines the join of names [0] to [-1] in variable {0} with an ampersand seperator \n",
    "    # and the second variable {1} containing the last name in the dictionary\n",
    "    if len(names) > 1:\n",
    "        return '{0} & {1}'.format(', '.join(name['name'] for name in names[:-1]),names[-1]['name'])\n",
    "\n",
    "    elif len(names) == 1:\n",
    "        return names[0]['name']\n",
    "    \n",
    "    else:\n",
    "        return ''\n",
    "\n",
    "# Test cases\n",
    "namelist1 = [{'name':'Bart'},{'name':'Lisa'},{'name':'Marge'}]\n",
    "namelist2 = [{'name':'Bart'},{'name':'Lisa'}]\n",
    "namelist3 = [{'name':'Bart'}]\n",
    "namelist4 = []\n",
    "\n",
    "print(namelist_1(namelist1))\n",
    "print(namelist_2(namelist1))"
   ]
  },
  {
   "cell_type": "code",
   "execution_count": 4,
   "metadata": {},
   "outputs": [
    {
     "name": "stdout",
     "output_type": "stream",
     "text": [
      "[1, 2]\n",
      "[1, 0, 15]\n",
      "[1, 2, 123]\n"
     ]
    }
   ],
   "source": [
    "# intermediate exercise set 1 #4\n",
    "# Create a function that takes a list of non-negative integers and strings\n",
    "# and returns a new list with the strings filtered out.\n",
    "\n",
    "def filter_list(list_in):\n",
    "    \n",
    "    list_out = []\n",
    "    \n",
    "    # same as list comprehension: list_out = [item for item in list_in if isinstance(item, int)]\n",
    "    for item in list_in:\n",
    "        if isinstance(item, int):\n",
    "            list_out.append(item)\n",
    "        \n",
    "    return list_out\n",
    "\n",
    "# is it bad form to use isinstance()?\n",
    "\n",
    "# Test cases\n",
    "list1 = ['d',1,2,'a','b']\n",
    "list2 = [1,'a','b',0,15]\n",
    "list3 = [1,2,'aasf','1','123',123]\n",
    "\n",
    "print(filter_list(list1))\n",
    "print(filter_list(list2))\n",
    "print(filter_list(list3))\n"
   ]
  },
  {
   "cell_type": "code",
   "execution_count": 5,
   "metadata": {},
   "outputs": [
    {
     "name": "stdout",
     "output_type": "stream",
     "text": [
      "5\n"
     ]
    }
   ],
   "source": [
    "# intermediate exercise set 1 #5\n",
    "# Given an array, find the int that appears an odd number of times.\n",
    "# There will always be only one integer that appears an odd number of times.\n",
    "\n",
    "def find_it(list_in):\n",
    "\n",
    "    for num in list_in:\n",
    "        # count the number of instances of num in the list\n",
    "        if list_in.count(num) % 2 != 0:\n",
    "            return num\n",
    "\n",
    "# Test case\n",
    "list1 = [20,1,-1,2,-2,3,3,5,5,1,2,4,20,4,-1,-2,5]\n",
    "\n",
    "print(find_it(list1))"
   ]
  },
  {
   "cell_type": "code",
   "execution_count": 6,
   "metadata": {},
   "outputs": [
    {
     "name": "stdout",
     "output_type": "stream",
     "text": [
      "Test cases with solution 1:\n",
      "True\n",
      "False\n",
      "True\n",
      "True\n",
      "False\n",
      "Test cases with solution 2:\n",
      "True\n",
      "False\n",
      "True\n",
      "True\n",
      "False\n"
     ]
    }
   ],
   "source": [
    "# intermediate exercise set 1 #6\n",
    "# Check to see if a string has the same amount of 'x's and 'o's. The method must\n",
    "# return a boolean and be case insensitive. The string can contain any char.\n",
    "\n",
    "def XO1(string_in):\n",
    "\n",
    "    string_in = string_in.lower()\n",
    "    \n",
    "    # case: number of x and o are equal or they are both 0\n",
    "    if string_in.count('x') == string_in.count('o'):\n",
    "        return True\n",
    "    # case: number of x and o are unequal\n",
    "    else:\n",
    "        return False\n",
    "\n",
    "# alternative solution\n",
    "def XO2(string_in):\n",
    "\n",
    "    string_in = string_in.lower()\n",
    "    \n",
    "    count = 0\n",
    "\n",
    "    for item in string_in:\n",
    "        # case: if character is x add 1 to counter\n",
    "        if item == 'x':\n",
    "            count += 1\n",
    "        # case: if character is o subtract 1 from counter\n",
    "        elif item == 'o':\n",
    "            count -= 1\n",
    "        #case: if character is not x or o disregard\n",
    "        else:\n",
    "            continue\n",
    "\n",
    "    # check if counter is 0, i.e. n number of x were added and n number of o subtracted\n",
    "    if count == 0:\n",
    "        return True\n",
    "    else:\n",
    "        return False\n",
    "\n",
    "\n",
    "print(\"Test cases with solution 1:\")\n",
    "print(XO1(\"ooxx\"))\n",
    "print(XO1(\"xooxx\"))\n",
    "print(XO1(\"ooxXm\"))\n",
    "print(XO1(\"zpzpzpp\"))\n",
    "print(XO1(\"zzoo\"))\n",
    "\n",
    "print(\"Test cases with solution 2:\")\n",
    "print(XO2(\"ooxx\"))\n",
    "print(XO2(\"xooxx\"))\n",
    "print(XO2(\"ooxXm\"))\n",
    "print(XO2(\"zpzpzpp\"))\n",
    "print(XO2(\"zzoo\"))"
   ]
  },
  {
   "cell_type": "code",
   "execution_count": 7,
   "metadata": {},
   "outputs": [
    {
     "name": "stdout",
     "output_type": "stream",
     "text": [
      "True\n",
      "False\n",
      "False\n",
      "True\n"
     ]
    }
   ],
   "source": [
    "# intermediate exercise set 1 #7\n",
    "# ATM machines allow 4 or 6 digit PIN codes and PIN codes cannot contain anything but \n",
    "# exactly 4 digits or exactly 6 digits. If the function is passed a valid PIN string, return\n",
    "# true, else return false.\n",
    "\n",
    "def validate_pin(pin):\n",
    "    if (len(pin) == 4 or len(pin) == 6) and pin.isnumeric():\n",
    "        return True\n",
    "    return False\n",
    "\n",
    "# Test cases\n",
    "print(validate_pin(\"1234\"))\n",
    "print(validate_pin(\"12345\"))\n",
    "print(validate_pin(\"a234\"))\n",
    "print(validate_pin(\"123456\"))\n"
   ]
  },
  {
   "cell_type": "code",
   "execution_count": 8,
   "metadata": {},
   "outputs": [
    {
     "name": "stdout",
     "output_type": "stream",
     "text": [
      "The shortest word is \"be\", 2 word/s is/are equally short.\n"
     ]
    }
   ],
   "source": [
    "# intermediate exercise set 1 #8\n",
    "# Given a string of words, return the length of the shortest word(s).\n",
    "# String will never be empty and you do not need to account for different data types.\n",
    "\n",
    "def is_shortest(check_string):\n",
    "\n",
    "    wordlist = check_string.split()\n",
    "    shortest = wordlist[0]\n",
    "    count = 0\n",
    "\n",
    "    # stores shortest and compares other values in list to it until it finds a shorter one\n",
    "    for word in wordlist[1:]:\n",
    "        if len(word) < len(shortest):\n",
    "            shortest = word\n",
    "\n",
    "    # counts if there are more than one word that are equally short\n",
    "    for word in wordlist:\n",
    "        if len(shortest) == len(word):\n",
    "            count += 1\n",
    "\n",
    "    return shortest, count\n",
    "\n",
    "in_string = \"String will never be empty and you do not need to account for different data types.\"\n",
    "\n",
    "print(f'The shortest word is \"{is_shortest(in_string)[0]}\", {is_shortest(in_string)[1]-1} word/s is/are equally short.')\n"
   ]
  },
  {
   "cell_type": "code",
   "execution_count": 9,
   "metadata": {},
   "outputs": [
    {
     "name": "stdout",
     "output_type": "stream",
     "text": [
      "The missing letter is: e.\n",
      "The missing letter is: P.\n"
     ]
    }
   ],
   "source": [
    "# intermediate exercise set 1 #9\n",
    "# Write a method that takes an array of consecutive (increasing) letters as input and\n",
    "# that returns the missing letter in the array.\n",
    "# The array will always be valid, there will always be exactly one letter missing.\n",
    "# The length of the array will always be at least 2 and always contain letters in only one case.\n",
    "\n",
    "def missing_letter(letters):\n",
    "\n",
    "    counter = 0\n",
    "    while counter != len(letters):\n",
    "        # the missing letter will never be at the end, no check needed\n",
    "        if ord(letters[counter])+1 != ord(letters[counter+1]):\n",
    "            return chr(ord(letters[counter])+1)\n",
    "        else:\n",
    "            counter += 1\n",
    "\n",
    "\n",
    "seq1 = ['a','b','c','d','f']\n",
    "seq2 = ['O','Q','R','S']\n",
    "\n",
    "\n",
    "print(f'The missing letter is: {missing_letter(seq1)}.')\n",
    "print(f'The missing letter is: {missing_letter(seq2)}.')"
   ]
  },
  {
   "cell_type": "code",
   "execution_count": 10,
   "metadata": {},
   "outputs": [
    {
     "name": "stdout",
     "output_type": "stream",
     "text": [
      "['Ryan', 'Yous']\n"
     ]
    }
   ],
   "source": [
    "# intermediate exercise set 1 #10\n",
    "# Make a program that filters a list of strings and returns a list with only your\n",
    "# friends name in it. If a name has exactly 4 letters in it, you can be sure that it has to\n",
    "# be a friend of yours! Otherwise, you can be sure he /she is not.\n",
    "\n",
    "def filter_friends(friend_list):\n",
    "    friends = []\n",
    "    for friend in friend_list:\n",
    "        if len(friend) == 4:\n",
    "            friends.append(friend)\n",
    "    return friends\n",
    "\n",
    "\n",
    "friend_list = [\"Ryan\", \"Kieran\", \"Jason\", \"Yous\"]\n",
    "print(filter_friends(friend_list))"
   ]
  }
 ],
 "metadata": {
  "interpreter": {
   "hash": "b5cfa023891fceef02537f80a4c6e95b77988fb973cdb16a51cdb785092210be"
  },
  "kernelspec": {
   "display_name": "Python 3.9.7 64-bit ('base': conda)",
   "language": "python",
   "name": "python3"
  },
  "language_info": {
   "codemirror_mode": {
    "name": "ipython",
    "version": 3
   },
   "file_extension": ".py",
   "mimetype": "text/x-python",
   "name": "python",
   "nbconvert_exporter": "python",
   "pygments_lexer": "ipython3",
   "version": "3.9.7"
  },
  "orig_nbformat": 4
 },
 "nbformat": 4,
 "nbformat_minor": 2
}
